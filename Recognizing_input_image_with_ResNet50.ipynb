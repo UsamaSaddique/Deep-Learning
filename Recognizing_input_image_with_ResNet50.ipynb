{
  "nbformat": 4,
  "nbformat_minor": 0,
  "metadata": {
    "colab": {
      "provenance": [],
      "collapsed_sections": []
    },
    "kernelspec": {
      "name": "python3",
      "display_name": "Python 3"
    },
    "language_info": {
      "name": "python"
    }
  },
  "cells": [
    {
      "cell_type": "code",
      "execution_count": 32,
      "metadata": {
        "id": "-p88_DzPsN7L"
      },
      "outputs": [],
      "source": [
        "# Import useful libraries\n",
        "import numpy as np\n",
        "import pandas as pd \n",
        "from tensorflow.keras.preprocessing import image\n",
        "from tensorflow.keras.applications import resnet50\n"
      ]
    },
    {
      "cell_type": "code",
      "source": [
        "# we  will now load the original resnet50 model which was trained on imagenet database\n",
        "model = resnet50.ResNet50()"
      ],
      "metadata": {
        "id": "PKCrIqTDas_S"
      },
      "execution_count": 33,
      "outputs": []
    },
    {
      "cell_type": "code",
      "source": [
        "# Now we will load the image and resize it to (224,224) because imagenet images have a size of (224,224)\n",
        "img = image.load_img('/content/cycle.jfif', target_size = (224,224))"
      ],
      "metadata": {
        "id": "6OCQWe_qbQ6_"
      },
      "execution_count": 34,
      "outputs": []
    },
    {
      "cell_type": "code",
      "source": [
        "# Converting the image to a numpy array\n",
        "x = image.img_to_array(img)"
      ],
      "metadata": {
        "id": "26CnV0prctxH"
      },
      "execution_count": 35,
      "outputs": []
    },
    {
      "cell_type": "code",
      "source": [
        "# We add a fourth dimension to image because neural network expects large amount of images and we are feeding only one image\n",
        "# So we are turning one image to multiple by adding a fourth dimension\n",
        "x = np.expand_dims(x, axis=0)"
      ],
      "metadata": {
        "id": "GNDB87eodvGm"
      },
      "execution_count": 36,
      "outputs": []
    },
    {
      "cell_type": "code",
      "source": [
        "# since our trained model used normalized images. so we need to normalize our input image.\n",
        "x = resnet50.preprocess_input(x)"
      ],
      "metadata": {
        "id": "CdOQdmAofAbj"
      },
      "execution_count": 37,
      "outputs": []
    },
    {
      "cell_type": "code",
      "source": [
        "\n",
        "# now we will ren the image through deep neural network to make a prediction\n",
        "prediction = model.predict(x)"
      ],
      "metadata": {
        "colab": {
          "base_uri": "https://localhost:8080/"
        },
        "id": "HrPZU8ovfeMf",
        "outputId": "74ad5a88-6a8d-4cce-b4bf-4e5ff95b279e"
      },
      "execution_count": 38,
      "outputs": [
        {
          "output_type": "stream",
          "name": "stdout",
          "text": [
            "1/1 [==============================] - 1s 1s/step\n"
          ]
        }
      ]
    },
    {
      "cell_type": "code",
      "source": [
        "# This will tell us the most likely matches to our input image instead of all 1000 classes on which the model was trained on\n",
        "# it will predict the top 5 classes\n",
        "predicted_classes = resnet50.decode_predictions(prediction)\n",
        "\n",
        "print(\"This is an image of:\")\n",
        "\n",
        "for imagenet_id, name, likelihood in predicted_classes[0]:\n",
        "  print(\"  - {}: {:2f} likelihood \".format(name, likelihood))"
      ],
      "metadata": {
        "colab": {
          "base_uri": "https://localhost:8080/"
        },
        "id": "925bNL9ffxoC",
        "outputId": "ce15596c-bf5f-4aff-e67f-4ada0d71136a"
      },
      "execution_count": 39,
      "outputs": [
        {
          "output_type": "stream",
          "name": "stdout",
          "text": [
            "This is an image of:\n",
            "  - mountain_bike: 0.634668 likelihood \n",
            "  - disk_brake: 0.210362 likelihood \n",
            "  - bicycle-built-for-two: 0.095237 likelihood \n",
            "  - sleeping_bag: 0.025643 likelihood \n",
            "  - backpack: 0.008118 likelihood \n"
          ]
        }
      ]
    },
    {
      "cell_type": "code",
      "source": [],
      "metadata": {
        "id": "gTJqGwY-hMgb"
      },
      "execution_count": null,
      "outputs": []
    }
  ]
}